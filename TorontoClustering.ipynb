{
 "cells": [
  {
   "cell_type": "markdown",
   "metadata": {},
   "source": [
    "# This is the Toronto clustering assignment for IBM capstone"
   ]
  },
  {
   "cell_type": "code",
   "execution_count": 4,
   "metadata": {},
   "outputs": [],
   "source": [
    "import pandas as pd\n",
    "import numpy as np"
   ]
  },
  {
   "cell_type": "code",
   "execution_count": 28,
   "metadata": {},
   "outputs": [
    {
     "name": "stdout",
     "output_type": "stream",
     "text": [
      "   Postcode           Borough  \\\n",
      "0       M3A        North York   \n",
      "1       M4A        North York   \n",
      "2       M5A  Downtown Toronto   \n",
      "3       M6A        North York   \n",
      "4       M7A      Queen's Park   \n",
      "5       M9A         Etobicoke   \n",
      "6       M1B       Scarborough   \n",
      "7       M3B        North York   \n",
      "8       M4B         East York   \n",
      "9       M5B  Downtown Toronto   \n",
      "10      M6B        North York   \n",
      "11      M9B         Etobicoke   \n",
      "\n",
      "                                        Neighbourhood  \n",
      "0                                           Parkwoods  \n",
      "1                                    Victoria Village  \n",
      "2                           Harbourfront, Regent Park  \n",
      "3                    Lawrence Heights, Lawrence Manor  \n",
      "4                                        Not assigned  \n",
      "5                                    Islington Avenue  \n",
      "6                                      Rouge, Malvern  \n",
      "7                                     Don Mills North  \n",
      "8                     Woodbine Gardens, Parkview Hill  \n",
      "9                            Ryerson, Garden District  \n",
      "10                                          Glencairn  \n",
      "11  Cloverdale, Islington, Martin Grove, Princess ...  \n"
     ]
    }
   ],
   "source": [
    "#Get the html source\n",
    "url = \"https://en.wikipedia.org/wiki/List_of_postal_codes_of_Canada:_M\"\n",
    "# Use pandas to load the data\n",
    "df = pd.read_html(url)[0]\n",
    "# Get rid of rows with unassigned boroughs.\n",
    "df = df[df['Borough']!='Not assigned']\n",
    "# Give unassigned neighbourhoods the name of the borough.\n",
    "df.Neighbourhood.replace('Not assigned',df.Borough)\n",
    "# Drop duplicate borough/postcode combos\n",
    "dfb = df[['Postcode','Borough']].drop_duplicates()\n",
    "# concatenate neighborhoods in the same postcode.\n",
    "dfn = df.groupby(by='Postcode')['Neighbourhood'].\\\n",
    "        apply(lambda x: ', '.join(x.astype(str)))\n",
    "# Merge the concatenated hoods with the boroughs and postcodes.\n",
    "df = pd.merge(dfb,dfn,on = 'Postcode')\n",
    "# Display the table which has the same info as the assignment,\n",
    "# but is in a different order for some reason\n",
    "print(df.loc[0:11,:])"
   ]
  },
  {
   "cell_type": "code",
   "execution_count": null,
   "metadata": {},
   "outputs": [],
   "source": []
  }
 ],
 "metadata": {
  "kernelspec": {
   "display_name": "Python 3",
   "language": "python",
   "name": "python3"
  },
  "language_info": {
   "codemirror_mode": {
    "name": "ipython",
    "version": 3
   },
   "file_extension": ".py",
   "mimetype": "text/x-python",
   "name": "python",
   "nbconvert_exporter": "python",
   "pygments_lexer": "ipython3",
   "version": "3.6.8"
  }
 },
 "nbformat": 4,
 "nbformat_minor": 2
}
