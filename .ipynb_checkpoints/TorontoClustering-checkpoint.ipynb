{
 "cells": [
  {
   "cell_type": "markdown",
   "metadata": {},
   "source": [
    "# This is the Toronto clustering assignment for IBM capstone"
   ]
  },
  {
   "cell_type": "code",
   "execution_count": 6,
   "metadata": {},
   "outputs": [],
   "source": [
    "import pandas as pd\n",
    "import numpy as np"
   ]
  },
  {
   "cell_type": "markdown",
   "metadata": {},
   "source": [
    "Get the html source"
   ]
  },
  {
   "cell_type": "code",
   "execution_count": 7,
   "metadata": {},
   "outputs": [],
   "source": [
    "url = \"https://en.wikipedia.org/wiki/List_of_postal_codes_of_Canada:_M\"\n",
    "# Read the data from the URL\n",
    "df = pd.read_html(url)[0]"
   ]
  },
  {
   "cell_type": "markdown",
   "metadata": {},
   "source": [
    "Ignore Boroughs that are not assigned and replace unassigned neighborhoods w/boroughs."
   ]
  },
  {
   "cell_type": "code",
   "execution_count": 12,
   "metadata": {},
   "outputs": [],
   "source": [
    "df = df[df['Borough']!='Not assigned']\n",
    "df.Neighbourhood=df.Neighbourhood.replace('Not assigned',df.Borough)"
   ]
  },
  {
   "cell_type": "markdown",
   "metadata": {},
   "source": [
    "Make the neighborhoods into CSVs"
   ]
  },
  {
   "cell_type": "code",
   "execution_count": 13,
   "metadata": {},
   "outputs": [
    {
     "name": "stdout",
     "output_type": "stream",
     "text": [
      "   Postcode           Borough  \\\n",
      "0       M3A        North York   \n",
      "1       M4A        North York   \n",
      "2       M5A  Downtown Toronto   \n",
      "3       M6A        North York   \n",
      "4       M7A      Queen's Park   \n",
      "5       M9A         Etobicoke   \n",
      "6       M1B       Scarborough   \n",
      "7       M3B        North York   \n",
      "8       M4B         East York   \n",
      "9       M5B  Downtown Toronto   \n",
      "10      M6B        North York   \n",
      "11      M9B         Etobicoke   \n",
      "\n",
      "                                        Neighbourhood  \n",
      "0                                           Parkwoods  \n",
      "1                                    Victoria Village  \n",
      "2                           Harbourfront, Regent Park  \n",
      "3                    Lawrence Heights, Lawrence Manor  \n",
      "4                                        Queen's Park  \n",
      "5                                    Islington Avenue  \n",
      "6                                      Rouge, Malvern  \n",
      "7                                     Don Mills North  \n",
      "8                     Woodbine Gardens, Parkview Hill  \n",
      "9                            Ryerson, Garden District  \n",
      "10                                          Glencairn  \n",
      "11  Cloverdale, Islington, Martin Grove, Princess ...  \n"
     ]
    }
   ],
   "source": [
    "gby = df.groupby(by='Postcode')\n",
    "dfb = df[['Postcode','Borough']].drop_duplicates()\n",
    "dfn = df.groupby(by='Postcode')['Neighbourhood'].\\\n",
    "        apply(lambda x: ', '.join(x.astype(str)))\n",
    "df = pd.merge(dfb,dfn,on = 'Postcode')\n",
    "print(df.loc[0:11,:])"
   ]
  },
  {
   "cell_type": "markdown",
   "metadata": {},
   "source": [
    "Print the shape of the dataframe"
   ]
  },
  {
   "cell_type": "code",
   "execution_count": 15,
   "metadata": {},
   "outputs": [
    {
     "data": {
      "text/plain": [
       "(103, 3)"
      ]
     },
     "execution_count": 15,
     "metadata": {},
     "output_type": "execute_result"
    }
   ],
   "source": [
    "df.shape"
   ]
  },
  {
   "cell_type": "code",
   "execution_count": null,
   "metadata": {},
   "outputs": [],
   "source": []
  }
 ],
 "metadata": {
  "kernelspec": {
   "display_name": "Python 3",
   "language": "python",
   "name": "python3"
  },
  "language_info": {
   "codemirror_mode": {
    "name": "ipython",
    "version": 3
   },
   "file_extension": ".py",
   "mimetype": "text/x-python",
   "name": "python",
   "nbconvert_exporter": "python",
   "pygments_lexer": "ipython3",
   "version": "3.6.8"
  }
 },
 "nbformat": 4,
 "nbformat_minor": 2
}
