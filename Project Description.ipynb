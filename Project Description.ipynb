{
 "cells": [
  {
   "cell_type": "markdown",
   "metadata": {},
   "source": [
    "The US Census spatial data, Zillow house value data, and Foursquare API data will be used to estimate the best place in the Portland area to buy a house or start a business, and what type of business to buy. The house prices of the different zip codes will be analyzed using the housing data and Kmeans to find which areas are increasing in price the fastest. The geographical location will be mapped. The Foursquare API will be used to determine what types of venues are in the fastest-rising zip codes. Based on the types of restaurants in the fastest increasing codes, a type of restaurant will be recommended. The datasets are at:\n",
    "\n",
    "Foursquare API\n",
    "https://api.foursquare.com/v2/venues/explore\n",
    "Zillow\n",
    "https://www.zillow.com/research/data/\n",
    "Census:\n",
    "http://www2.census.gov/geo/tiger/GENZ2010"
   ]
  },
  {
   "cell_type": "code",
   "execution_count": null,
   "metadata": {},
   "outputs": [],
   "source": []
  }
 ],
 "metadata": {
  "kernelspec": {
   "display_name": "Python 3",
   "language": "python",
   "name": "python3"
  },
  "language_info": {
   "codemirror_mode": {
    "name": "ipython",
    "version": 3
   },
   "file_extension": ".py",
   "mimetype": "text/x-python",
   "name": "python",
   "nbconvert_exporter": "python",
   "pygments_lexer": "ipython3",
   "version": "3.7.5"
  }
 },
 "nbformat": 4,
 "nbformat_minor": 2
}
